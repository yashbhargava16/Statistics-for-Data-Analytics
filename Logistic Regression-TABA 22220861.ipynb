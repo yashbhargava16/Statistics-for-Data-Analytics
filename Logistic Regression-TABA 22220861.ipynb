{
 "cells": [
  {
   "cell_type": "markdown",
   "id": "49bc0691",
   "metadata": {},
   "source": [
    "## Importing Libraries"
   ]
  },
  {
   "cell_type": "code",
   "execution_count": 1,
   "id": "28e446a7",
   "metadata": {},
   "outputs": [],
   "source": [
    "import pandas as pd\n",
    "import numpy as np\n",
    "import matplotlib.pyplot as plt\n",
    "import seaborn as sns\n",
    "from sklearn.preprocessing import LabelEncoder\n",
    "from sklearn.model_selection import train_test_split\n",
    "from sklearn.linear_model import LogisticRegression\n",
    "from sklearn.metrics import confusion_matrix, classification_report, accuracy_score, precision_score, recall_score,f1_score,roc_auc_score"
   ]
  },
  {
   "cell_type": "markdown",
   "id": "3d5520e0",
   "metadata": {},
   "source": [
    "## Importing Dataset"
   ]
  },
  {
   "cell_type": "code",
   "execution_count": 2,
   "id": "0a042d9c",
   "metadata": {},
   "outputs": [],
   "source": [
    "cardiac = pd.read_csv(\"cardiac.csv\")"
   ]
  },
  {
   "cell_type": "code",
   "execution_count": 3,
   "id": "b53a5d00",
   "metadata": {},
   "outputs": [
    {
     "data": {
      "text/html": [
       "<div>\n",
       "<style scoped>\n",
       "    .dataframe tbody tr th:only-of-type {\n",
       "        vertical-align: middle;\n",
       "    }\n",
       "\n",
       "    .dataframe tbody tr th {\n",
       "        vertical-align: top;\n",
       "    }\n",
       "\n",
       "    .dataframe thead th {\n",
       "        text-align: right;\n",
       "    }\n",
       "</style>\n",
       "<table border=\"1\" class=\"dataframe\">\n",
       "  <thead>\n",
       "    <tr style=\"text-align: right;\">\n",
       "      <th></th>\n",
       "      <th>caseno</th>\n",
       "      <th>age</th>\n",
       "      <th>weight</th>\n",
       "      <th>gender</th>\n",
       "      <th>fitness_score</th>\n",
       "      <th>cardiac_condition</th>\n",
       "    </tr>\n",
       "  </thead>\n",
       "  <tbody>\n",
       "    <tr>\n",
       "      <th>0</th>\n",
       "      <td>1</td>\n",
       "      <td>37</td>\n",
       "      <td>70.47</td>\n",
       "      <td>Male</td>\n",
       "      <td>55.79</td>\n",
       "      <td>Absent</td>\n",
       "    </tr>\n",
       "    <tr>\n",
       "      <th>1</th>\n",
       "      <td>2</td>\n",
       "      <td>73</td>\n",
       "      <td>50.34</td>\n",
       "      <td>Female</td>\n",
       "      <td>35.00</td>\n",
       "      <td>Absent</td>\n",
       "    </tr>\n",
       "    <tr>\n",
       "      <th>2</th>\n",
       "      <td>3</td>\n",
       "      <td>46</td>\n",
       "      <td>87.65</td>\n",
       "      <td>Male</td>\n",
       "      <td>42.93</td>\n",
       "      <td>Present</td>\n",
       "    </tr>\n",
       "    <tr>\n",
       "      <th>3</th>\n",
       "      <td>4</td>\n",
       "      <td>36</td>\n",
       "      <td>89.80</td>\n",
       "      <td>Female</td>\n",
       "      <td>28.30</td>\n",
       "      <td>Present</td>\n",
       "    </tr>\n",
       "    <tr>\n",
       "      <th>4</th>\n",
       "      <td>5</td>\n",
       "      <td>34</td>\n",
       "      <td>103.02</td>\n",
       "      <td>Male</td>\n",
       "      <td>40.56</td>\n",
       "      <td>Absent</td>\n",
       "    </tr>\n",
       "    <tr>\n",
       "      <th>...</th>\n",
       "      <td>...</td>\n",
       "      <td>...</td>\n",
       "      <td>...</td>\n",
       "      <td>...</td>\n",
       "      <td>...</td>\n",
       "      <td>...</td>\n",
       "    </tr>\n",
       "    <tr>\n",
       "      <th>95</th>\n",
       "      <td>96</td>\n",
       "      <td>42</td>\n",
       "      <td>111.98</td>\n",
       "      <td>Male</td>\n",
       "      <td>33.73</td>\n",
       "      <td>Present</td>\n",
       "    </tr>\n",
       "    <tr>\n",
       "      <th>96</th>\n",
       "      <td>97</td>\n",
       "      <td>43</td>\n",
       "      <td>88.07</td>\n",
       "      <td>Male</td>\n",
       "      <td>49.22</td>\n",
       "      <td>Present</td>\n",
       "    </tr>\n",
       "    <tr>\n",
       "      <th>97</th>\n",
       "      <td>98</td>\n",
       "      <td>45</td>\n",
       "      <td>94.07</td>\n",
       "      <td>Male</td>\n",
       "      <td>41.97</td>\n",
       "      <td>Present</td>\n",
       "    </tr>\n",
       "    <tr>\n",
       "      <th>98</th>\n",
       "      <td>99</td>\n",
       "      <td>58</td>\n",
       "      <td>97.46</td>\n",
       "      <td>Male</td>\n",
       "      <td>35.20</td>\n",
       "      <td>Present</td>\n",
       "    </tr>\n",
       "    <tr>\n",
       "      <th>99</th>\n",
       "      <td>100</td>\n",
       "      <td>61</td>\n",
       "      <td>93.76</td>\n",
       "      <td>Male</td>\n",
       "      <td>32.00</td>\n",
       "      <td>Present</td>\n",
       "    </tr>\n",
       "  </tbody>\n",
       "</table>\n",
       "<p>100 rows × 6 columns</p>\n",
       "</div>"
      ],
      "text/plain": [
       "    caseno  age  weight  gender  fitness_score cardiac_condition\n",
       "0        1   37   70.47    Male          55.79            Absent\n",
       "1        2   73   50.34  Female          35.00            Absent\n",
       "2        3   46   87.65    Male          42.93           Present\n",
       "3        4   36   89.80  Female          28.30           Present\n",
       "4        5   34  103.02    Male          40.56            Absent\n",
       "..     ...  ...     ...     ...            ...               ...\n",
       "95      96   42  111.98    Male          33.73           Present\n",
       "96      97   43   88.07    Male          49.22           Present\n",
       "97      98   45   94.07    Male          41.97           Present\n",
       "98      99   58   97.46    Male          35.20           Present\n",
       "99     100   61   93.76    Male          32.00           Present\n",
       "\n",
       "[100 rows x 6 columns]"
      ]
     },
     "execution_count": 3,
     "metadata": {},
     "output_type": "execute_result"
    }
   ],
   "source": [
    "cardiac"
   ]
  },
  {
   "cell_type": "markdown",
   "id": "74ca72bf",
   "metadata": {},
   "source": [
    "## Exploratory Data Analysis (EDA)"
   ]
  },
  {
   "cell_type": "markdown",
   "id": "f92c4d78",
   "metadata": {},
   "source": [
    "### Check for correct datatype and missing values"
   ]
  },
  {
   "cell_type": "code",
   "execution_count": 4,
   "id": "07fd9789",
   "metadata": {},
   "outputs": [
    {
     "name": "stdout",
     "output_type": "stream",
     "text": [
      "<class 'pandas.core.frame.DataFrame'>\n",
      "RangeIndex: 100 entries, 0 to 99\n",
      "Data columns (total 6 columns):\n",
      " #   Column             Non-Null Count  Dtype  \n",
      "---  ------             --------------  -----  \n",
      " 0   caseno             100 non-null    int64  \n",
      " 1   age                100 non-null    int64  \n",
      " 2   weight             100 non-null    float64\n",
      " 3   gender             100 non-null    object \n",
      " 4   fitness_score      100 non-null    float64\n",
      " 5   cardiac_condition  100 non-null    object \n",
      "dtypes: float64(2), int64(2), object(2)\n",
      "memory usage: 4.8+ KB\n"
     ]
    }
   ],
   "source": [
    "cardiac.info()"
   ]
  },
  {
   "cell_type": "markdown",
   "id": "ddc18ee6",
   "metadata": {},
   "source": [
    "### Descriptive Stats"
   ]
  },
  {
   "cell_type": "code",
   "execution_count": 5,
   "id": "8ccdce66",
   "metadata": {},
   "outputs": [
    {
     "data": {
      "text/html": [
       "<div>\n",
       "<style scoped>\n",
       "    .dataframe tbody tr th:only-of-type {\n",
       "        vertical-align: middle;\n",
       "    }\n",
       "\n",
       "    .dataframe tbody tr th {\n",
       "        vertical-align: top;\n",
       "    }\n",
       "\n",
       "    .dataframe thead th {\n",
       "        text-align: right;\n",
       "    }\n",
       "</style>\n",
       "<table border=\"1\" class=\"dataframe\">\n",
       "  <thead>\n",
       "    <tr style=\"text-align: right;\">\n",
       "      <th></th>\n",
       "      <th>count</th>\n",
       "      <th>mean</th>\n",
       "      <th>std</th>\n",
       "      <th>min</th>\n",
       "      <th>25%</th>\n",
       "      <th>50%</th>\n",
       "      <th>75%</th>\n",
       "      <th>max</th>\n",
       "    </tr>\n",
       "  </thead>\n",
       "  <tbody>\n",
       "    <tr>\n",
       "      <th>caseno</th>\n",
       "      <td>100.0</td>\n",
       "      <td>50.5000</td>\n",
       "      <td>29.011492</td>\n",
       "      <td>1.00</td>\n",
       "      <td>25.7500</td>\n",
       "      <td>50.50</td>\n",
       "      <td>75.2500</td>\n",
       "      <td>100.00</td>\n",
       "    </tr>\n",
       "    <tr>\n",
       "      <th>age</th>\n",
       "      <td>100.0</td>\n",
       "      <td>41.1000</td>\n",
       "      <td>9.142530</td>\n",
       "      <td>30.00</td>\n",
       "      <td>34.0000</td>\n",
       "      <td>39.00</td>\n",
       "      <td>45.2500</td>\n",
       "      <td>74.00</td>\n",
       "    </tr>\n",
       "    <tr>\n",
       "      <th>weight</th>\n",
       "      <td>100.0</td>\n",
       "      <td>79.6603</td>\n",
       "      <td>15.089842</td>\n",
       "      <td>50.00</td>\n",
       "      <td>69.7325</td>\n",
       "      <td>79.24</td>\n",
       "      <td>89.9125</td>\n",
       "      <td>115.42</td>\n",
       "    </tr>\n",
       "    <tr>\n",
       "      <th>fitness_score</th>\n",
       "      <td>100.0</td>\n",
       "      <td>43.6298</td>\n",
       "      <td>8.571306</td>\n",
       "      <td>27.35</td>\n",
       "      <td>36.5950</td>\n",
       "      <td>42.73</td>\n",
       "      <td>49.2650</td>\n",
       "      <td>62.50</td>\n",
       "    </tr>\n",
       "  </tbody>\n",
       "</table>\n",
       "</div>"
      ],
      "text/plain": [
       "               count     mean        std    min      25%    50%      75%  \\\n",
       "caseno         100.0  50.5000  29.011492   1.00  25.7500  50.50  75.2500   \n",
       "age            100.0  41.1000   9.142530  30.00  34.0000  39.00  45.2500   \n",
       "weight         100.0  79.6603  15.089842  50.00  69.7325  79.24  89.9125   \n",
       "fitness_score  100.0  43.6298   8.571306  27.35  36.5950  42.73  49.2650   \n",
       "\n",
       "                  max  \n",
       "caseno         100.00  \n",
       "age             74.00  \n",
       "weight         115.42  \n",
       "fitness_score   62.50  "
      ]
     },
     "execution_count": 5,
     "metadata": {},
     "output_type": "execute_result"
    }
   ],
   "source": [
    "cardiac.describe().T"
   ]
  },
  {
   "cell_type": "markdown",
   "id": "66313ba6",
   "metadata": {},
   "source": [
    "### Checking for Outliers"
   ]
  },
  {
   "cell_type": "code",
   "execution_count": 6,
   "id": "b4bb9d22",
   "metadata": {},
   "outputs": [
    {
     "data": {
      "text/plain": [
       "<AxesSubplot:>"
      ]
     },
     "execution_count": 6,
     "metadata": {},
     "output_type": "execute_result"
    },
    {
     "data": {
      "image/png": "[encoded data removed]",
      "text/plain": [
       "<Figure size 640x480 with 1 Axes>"
      ]
     },
     "metadata": {},
     "output_type": "display_data"
    }
   ],
   "source": [
    "sns.boxplot(data= cardiac)"
   ]
  },
  {
   "cell_type": "markdown",
   "id": "0db35cc9",
   "metadata": {},
   "source": [
    "### Encoding the categorical variables"
   ]
  },
  {
   "cell_type": "code",
   "execution_count": 7,
   "id": "2002b4a1",
   "metadata": {},
   "outputs": [],
   "source": [
    "lab_enc = LabelEncoder()"
   ]
  },
  {
   "cell_type": "code",
   "execution_count": 8,
   "id": "a9fa6dc1",
   "metadata": {
    "scrolled": true
   },
   "outputs": [],
   "source": [
    "cardiac['gender'] = lab_enc.fit_transform(cardiac['gender'])\n",
    "cardiac['cardiac_condition'] = lab_enc.fit_transform(cardiac['cardiac_condition'])"
   ]
  },
  {
   "cell_type": "markdown",
   "id": "854c09fa",
   "metadata": {},
   "source": [
    "### Correlations"
   ]
  },
  {
   "cell_type": "code",
   "execution_count": 9,
   "id": "96a7e485",
   "metadata": {},
   "outputs": [
    {
     "data": {
      "text/plain": [
       "<AxesSubplot:>"
      ]
     },
     "execution_count": 9,
     "metadata": {},
     "output_type": "execute_result"
    },
    {
     "data": {
      "image/png": "[encoded data removed]",
      "text/plain": [
       "<Figure size 640x480 with 2 Axes>"
      ]
     },
     "metadata": {},
     "output_type": "display_data"
    }
   ],
   "source": [
    "correlations = cardiac.corr()\n",
    "sns.heatmap(correlations, annot=True)"
   ]
  },
  {
   "cell_type": "markdown",
   "id": "de0b1bd3",
   "metadata": {},
   "source": [
    "### Removing unnessary columns"
   ]
  },
  {
   "cell_type": "code",
   "execution_count": 10,
   "id": "e5f28790",
   "metadata": {},
   "outputs": [],
   "source": [
    "cardiac = cardiac.drop(columns=['caseno'])"
   ]
  },
  {
   "cell_type": "code",
   "execution_count": 11,
   "id": "dbd223d7",
   "metadata": {},
   "outputs": [
    {
     "data": {
      "text/html": [
       "<div>\n",
       "<style scoped>\n",
       "    .dataframe tbody tr th:only-of-type {\n",
       "        vertical-align: middle;\n",
       "    }\n",
       "\n",
       "    .dataframe tbody tr th {\n",
       "        vertical-align: top;\n",
       "    }\n",
       "\n",
       "    .dataframe thead th {\n",
       "        text-align: right;\n",
       "    }\n",
       "</style>\n",
       "<table border=\"1\" class=\"dataframe\">\n",
       "  <thead>\n",
       "    <tr style=\"text-align: right;\">\n",
       "      <th></th>\n",
       "      <th>age</th>\n",
       "      <th>weight</th>\n",
       "      <th>gender</th>\n",
       "      <th>fitness_score</th>\n",
       "      <th>cardiac_condition</th>\n",
       "    </tr>\n",
       "  </thead>\n",
       "  <tbody>\n",
       "    <tr>\n",
       "      <th>0</th>\n",
       "      <td>37</td>\n",
       "      <td>70.47</td>\n",
       "      <td>1</td>\n",
       "      <td>55.79</td>\n",
       "      <td>0</td>\n",
       "    </tr>\n",
       "    <tr>\n",
       "      <th>1</th>\n",
       "      <td>73</td>\n",
       "      <td>50.34</td>\n",
       "      <td>0</td>\n",
       "      <td>35.00</td>\n",
       "      <td>0</td>\n",
       "    </tr>\n",
       "    <tr>\n",
       "      <th>2</th>\n",
       "      <td>46</td>\n",
       "      <td>87.65</td>\n",
       "      <td>1</td>\n",
       "      <td>42.93</td>\n",
       "      <td>1</td>\n",
       "    </tr>\n",
       "    <tr>\n",
       "      <th>3</th>\n",
       "      <td>36</td>\n",
       "      <td>89.80</td>\n",
       "      <td>0</td>\n",
       "      <td>28.30</td>\n",
       "      <td>1</td>\n",
       "    </tr>\n",
       "    <tr>\n",
       "      <th>4</th>\n",
       "      <td>34</td>\n",
       "      <td>103.02</td>\n",
       "      <td>1</td>\n",
       "      <td>40.56</td>\n",
       "      <td>0</td>\n",
       "    </tr>\n",
       "    <tr>\n",
       "      <th>...</th>\n",
       "      <td>...</td>\n",
       "      <td>...</td>\n",
       "      <td>...</td>\n",
       "      <td>...</td>\n",
       "      <td>...</td>\n",
       "    </tr>\n",
       "    <tr>\n",
       "      <th>95</th>\n",
       "      <td>42</td>\n",
       "      <td>111.98</td>\n",
       "      <td>1</td>\n",
       "      <td>33.73</td>\n",
       "      <td>1</td>\n",
       "    </tr>\n",
       "    <tr>\n",
       "      <th>96</th>\n",
       "      <td>43</td>\n",
       "      <td>88.07</td>\n",
       "      <td>1</td>\n",
       "      <td>49.22</td>\n",
       "      <td>1</td>\n",
       "    </tr>\n",
       "    <tr>\n",
       "      <th>97</th>\n",
       "      <td>45</td>\n",
       "      <td>94.07</td>\n",
       "      <td>1</td>\n",
       "      <td>41.97</td>\n",
       "      <td>1</td>\n",
       "    </tr>\n",
       "    <tr>\n",
       "      <th>98</th>\n",
       "      <td>58</td>\n",
       "      <td>97.46</td>\n",
       "      <td>1</td>\n",
       "      <td>35.20</td>\n",
       "      <td>1</td>\n",
       "    </tr>\n",
       "    <tr>\n",
       "      <th>99</th>\n",
       "      <td>61</td>\n",
       "      <td>93.76</td>\n",
       "      <td>1</td>\n",
       "      <td>32.00</td>\n",
       "      <td>1</td>\n",
       "    </tr>\n",
       "  </tbody>\n",
       "</table>\n",
       "<p>100 rows × 5 columns</p>\n",
       "</div>"
      ],
      "text/plain": [
       "    age  weight  gender  fitness_score  cardiac_condition\n",
       "0    37   70.47       1          55.79                  0\n",
       "1    73   50.34       0          35.00                  0\n",
       "2    46   87.65       1          42.93                  1\n",
       "3    36   89.80       0          28.30                  1\n",
       "4    34  103.02       1          40.56                  0\n",
       "..  ...     ...     ...            ...                ...\n",
       "95   42  111.98       1          33.73                  1\n",
       "96   43   88.07       1          49.22                  1\n",
       "97   45   94.07       1          41.97                  1\n",
       "98   58   97.46       1          35.20                  1\n",
       "99   61   93.76       1          32.00                  1\n",
       "\n",
       "[100 rows x 5 columns]"
      ]
     },
     "execution_count": 11,
     "metadata": {},
     "output_type": "execute_result"
    }
   ],
   "source": [
    "cardiac"
   ]
  },
  {
   "cell_type": "markdown",
   "id": "16417ec0",
   "metadata": {},
   "source": [
    "## Data Modelling"
   ]
  },
  {
   "cell_type": "code",
   "execution_count": 12,
   "id": "c6815852",
   "metadata": {},
   "outputs": [],
   "source": [
    "X = cardiac[['age','weight','gender','fitness_score']]\n",
    "Y = cardiac.cardiac_condition"
   ]
  },
  {
   "cell_type": "markdown",
   "id": "3968ecef",
   "metadata": {},
   "source": [
    "#### Train-Test Split"
   ]
  },
  {
   "cell_type": "code",
   "execution_count": 13,
   "id": "e4ed9a54",
   "metadata": {},
   "outputs": [],
   "source": [
    "X_train, X_test, y_train, y_test = train_test_split(X,Y,test_size = 0.3, random_state=22220861)\n"
   ]
  },
  {
   "cell_type": "markdown",
   "id": "a182133f",
   "metadata": {},
   "source": [
    "#### Define the Model"
   ]
  },
  {
   "cell_type": "code",
   "execution_count": 14,
   "id": "2e01a954",
   "metadata": {},
   "outputs": [],
   "source": [
    "logit = LogisticRegression()"
   ]
  },
  {
   "cell_type": "markdown",
   "id": "ffbeff96",
   "metadata": {},
   "source": [
    "#### Fit the Model"
   ]
  },
  {
   "cell_type": "code",
   "execution_count": 15,
   "id": "b7d39aef",
   "metadata": {},
   "outputs": [],
   "source": [
    "logit_fit = logit.fit(X_train,y_train)"
   ]
  },
  {
   "cell_type": "markdown",
   "id": "c0aca1d2",
   "metadata": {},
   "source": [
    "#### Predict the cardiac_condition on testing data"
   ]
  },
  {
   "cell_type": "code",
   "execution_count": 16,
   "id": "707928d4",
   "metadata": {},
   "outputs": [
    {
     "data": {
      "text/plain": [
       "array([0, 0, 1, 1, 0, 1, 0, 0, 0, 1, 0, 1, 0, 0, 0, 0, 0, 1, 0, 1, 1, 0,\n",
       "       1, 0, 0, 1, 0, 1, 0, 1])"
      ]
     },
     "execution_count": 16,
     "metadata": {},
     "output_type": "execute_result"
    }
   ],
   "source": [
    "cardiac_con_pred = logit.predict(X_test)\n",
    "cardiac_con_pred"
   ]
  },
  {
   "cell_type": "markdown",
   "id": "dbe24367",
   "metadata": {},
   "source": [
    "## Evaluation Metrics"
   ]
  },
  {
   "cell_type": "code",
   "execution_count": 17,
   "id": "f13b2c7c",
   "metadata": {},
   "outputs": [],
   "source": [
    "con_matrix = confusion_matrix(y_test, cardiac_con_pred)"
   ]
  },
  {
   "cell_type": "code",
   "execution_count": 18,
   "id": "33dc937b",
   "metadata": {},
   "outputs": [
    {
     "data": {
      "image/png": "[encoded data removed]",
      "text/plain": [
       "<Figure size 640x480 with 2 Axes>"
      ]
     },
     "metadata": {},
     "output_type": "display_data"
    }
   ],
   "source": [
    "sns.heatmap(con_matrix, annot=True,\n",
    "            xticklabels=['0', '1'],\n",
    "            yticklabels=['0', '1'])\n",
    "plt.title('Confusion Matrix')\n",
    "plt.xlabel('Predicted')\n",
    "plt.ylabel('Actual')\n",
    "plt.show()"
   ]
  },
  {
   "cell_type": "code",
   "execution_count": 19,
   "id": "f7e872da",
   "metadata": {},
   "outputs": [
    {
     "name": "stdout",
     "output_type": "stream",
     "text": [
      "              precision    recall  f1-score   support\n",
      "\n",
      "           0       0.89      0.84      0.86        19\n",
      "           1       0.75      0.82      0.78        11\n",
      "\n",
      "    accuracy                           0.83        30\n",
      "   macro avg       0.82      0.83      0.82        30\n",
      "weighted avg       0.84      0.83      0.83        30\n",
      "\n"
     ]
    }
   ],
   "source": [
    "print(classification_report(y_test, cardiac_con_pred))"
   ]
  },
  {
   "cell_type": "code",
   "execution_count": 20,
   "id": "bc533072",
   "metadata": {},
   "outputs": [
    {
     "name": "stdout",
     "output_type": "stream",
     "text": [
      "Accuracy: 0.83\n",
      "Precision: 0.75\n",
      "Recall: 0.82\n",
      "F1_Score: 0.78\n",
      "ROC_AUC Score: 0.83\n"
     ]
    }
   ],
   "source": [
    "print(\"Accuracy:\",round(accuracy_score(y_test,cardiac_con_pred),2))\n",
    "print(\"Precision:\",round(precision_score(y_test, cardiac_con_pred),2))\n",
    "print(\"Recall:\", round(recall_score(y_test, cardiac_con_pred),2))\n",
    "print(\"F1_Score:\",round(f1_score(y_test,cardiac_con_pred),2))\n",
    "print(\"ROC_AUC Score:\",round(roc_auc_score(y_test,cardiac_con_pred),2) )"
   ]
  }
 ],
 "metadata": {
  "kernelspec": {
   "display_name": "Python 3 (ipykernel)",
   "language": "python",
   "name": "python3"
  },
  "language_info": {
   "codemirror_mode": {
    "name": "ipython",
    "version": 3
   },
   "file_extension": ".py",
   "mimetype": "text/x-python",
   "name": "python",
   "nbconvert_exporter": "python",
   "pygments_lexer": "ipython3",
   "version": "3.9.13"
  }
 },
 "nbformat": 4,
 "nbformat_minor": 5
}
